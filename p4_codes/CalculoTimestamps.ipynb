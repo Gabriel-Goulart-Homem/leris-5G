{
 "cells": [
  {
   "cell_type": "markdown",
   "metadata": {
    "id": "M1lRpeXUV_xO"
   },
   "source": [
    "# Setup"
   ]
  },
  {
   "cell_type": "code",
   "execution_count": 1,
   "metadata": {
    "id": "tQDScfmlZWdp"
   },
   "outputs": [],
   "source": [
    "%load_ext autoreload\n",
    "%autoreload 2"
   ]
  },
  {
   "cell_type": "code",
   "execution_count": 2,
   "metadata": {
    "id": "-eDFYJyroOJK"
   },
   "outputs": [],
   "source": [
    "import os\n",
    "import sys\n",
    "\n",
    "NUM_TESTS_NQ2 = 0\n",
    "NUM_TESTS_NW2 = 0\n",
    "NUM_TESTS_QW2 = 1\n",
    "\n",
    "NUM_TESTS_NQ3 = 0\n",
    "NUM_TESTS_NW3 = 0\n",
    "NUM_TESTS_QW3 = 30\n",
    "\n",
    "T2_S_NQ = []\n",
    "T3_S_NQ = []\n",
    "T2_S_NW = []\n",
    "T3_S_NW = []\n",
    "T2_S_QW = []\n",
    "T3_S_QW = []\n",
    "T2_R_NQ = []\n",
    "T3_R_NQ = []\n",
    "T2_R_NW = []\n",
    "T3_R_NW = []\n",
    "T2_R_QW = []\n",
    "T3_R_QW = []\n",
    "\n",
    "\n",
    "for i in range(1,NUM_TESTS_NQ2+1):\n",
    "  T2_S_NQ.append(os.path.join('Table2NoQueue', 'table2SendNoQueueTest'+str(i)+'.log'))\n",
    "  T2_R_NQ.append(os.path.join('Table2NoQueue', 'table2ReceiveNoQueueTest'+str(i)+'.log'))\n",
    "\n",
    "for i in range(1,NUM_TESTS_NW2+1):\n",
    "  T2_S_NW.append(os.path.join('Table2NoWeight', 'table2SendNoWeightTest'+str(i)+'.log'))\n",
    "  T2_R_NW.append(os.path.join('Table2NoWeight', 'table2ReceiveNoWeightTest'+str(i)+'.log'))\n",
    "\n",
    "for i in range(1,NUM_TESTS_QW2+1):\n",
    "  T2_S_QW.append(os.path.join('Table2WithWeight', 'table2SendWithWeightTest'+str(i)+'.log'))\n",
    "  T2_R_QW.append(os.path.join('Table2WithWeight', 'table2ReceiveWithWeightTest'+str(i)+'.log'))\n",
    "\n",
    "for i in range(1,NUM_TESTS_NQ3+1):\n",
    "  T3_S_NQ.append(os.path.join('Table3NoQueue', 'table3SendNoQueueTest'+str(i)+'.log'))\n",
    "  T3_R_NQ.append(os.path.join('Table3NoQueue', 'table3ReceiveNoQueueTest'+str(i)+'.log'))\n",
    "\n",
    "for i in range(1,NUM_TESTS_NW3+1):\n",
    "  T3_S_NW.append(os.path.join('Table3NoWeight', 'table3SendNoWeightTest'+str(i)+'.log'))\n",
    "  T3_R_NW.append(os.path.join('Table3NoWeight', 'table3ReceiveNoWeightTest'+str(i)+'.log'))\n",
    "\n",
    "for i in range(1,NUM_TESTS_QW3+1):\n",
    "  T3_S_QW.append(os.path.join('Table3WithWeight', 'table3SendWithWeightTest'+str(i)+'.log'))\n",
    "  T3_R_QW.append(os.path.join('Table3WithWeight', 'table3ReceiveWithWeightTest'+str(i)+'.log'))\n",
    "\n",
    "TEMP_PATH = os.path.join('TEMP')"
   ]
  },
  {
   "cell_type": "code",
   "execution_count": 3,
   "metadata": {
    "colab": {
     "base_uri": "https://localhost:8080/"
    },
    "id": "QO0ZuSvIA4ps",
    "outputId": "1b28d226-02db-4381-d0a0-a5cdd97fcc12"
   },
   "outputs": [
    {
     "name": "stdout",
     "output_type": "stream",
     "text": [
      "Requirement already satisfied: dpkt in c:\\users\\gabri\\anaconda3\\lib\\site-packages (1.9.8)\n"
     ]
    }
   ],
   "source": [
    "!pip install dpkt"
   ]
  },
  {
   "cell_type": "code",
   "execution_count": 4,
   "metadata": {
    "id": "FPOtmp4nWIMW"
   },
   "outputs": [],
   "source": [
    "import struct\n",
    "import dpkt\n",
    "import matplotlib.pyplot as plt\n",
    "import pandas\n",
    "import numpy as np\n",
    "import json"
   ]
  },
  {
   "cell_type": "markdown",
   "metadata": {
    "id": "iMqGhBAuWCsV"
   },
   "source": [
    "# Execução"
   ]
  },
  {
   "cell_type": "markdown",
   "metadata": {
    "id": "IPEUQhatYFca"
   },
   "source": [
    "## Contar numero de pacotes em cada arquivo pcap"
   ]
  },
  {
   "cell_type": "code",
   "execution_count": null,
   "metadata": {
    "id": "h9_T5JOgWIHH"
   },
   "outputs": [],
   "source": [
    "for j in range(NUM_TESTS_NQ2):\n",
    "  i = 0\n",
    "  for ts, payload in dpkt.pcap.Reader(open(T2_R_NQ[j],'rb')):\n",
    "    i += 1\n",
    "  print(\"T2_R_NQ[\"+str(j)+\"] = \"+str(i))\n",
    "\n",
    "for j in range(NUM_TESTS_NQ2):\n",
    "  i = 0\n",
    "  for ts, payload in dpkt.pcap.Reader(open(T2_S_NQ[j],'rb')):\n",
    "    i += 1\n",
    "  print(\"T2_S_NQ[\"+str(j)+\"] = \"+str(i))"
   ]
  },
  {
   "cell_type": "code",
   "execution_count": null,
   "metadata": {
    "id": "I0d1WFixbKvX"
   },
   "outputs": [],
   "source": [
    "for j in range(NUM_TESTS_NW2):\n",
    "  i = 0\n",
    "  for ts, payload in dpkt.pcap.Reader(open(T2_R_NW[j],'rb')):\n",
    "    i += 1\n",
    "  print(\"T2_R_NW[\"+str(j)+\"] = \"+str(i))\n",
    "\n",
    "for j in range(NUM_TESTS_NW2):\n",
    "  i = 0\n",
    "  for ts, payload in dpkt.pcap.Reader(open(T2_S_NW[j],'rb')):\n",
    "    i += 1\n",
    "  print(\"T2_S_NW[\"+str(j)+\"] = \"+str(i))"
   ]
  },
  {
   "cell_type": "code",
   "execution_count": null,
   "metadata": {
    "colab": {
     "base_uri": "https://localhost:8080/"
    },
    "id": "Xroa0XGRbQOf",
    "outputId": "9b71acbb-abf1-408a-8673-3ab5a9250a9f",
    "scrolled": false
   },
   "outputs": [],
   "source": [
    "for j in range(NUM_TESTS_QW2):\n",
    "  i = 0\n",
    "  for ts, payload in dpkt.pcap.Reader(open(T2_R_QW[j],'rb')):\n",
    "    i += 1\n",
    "    #print(ts)\n",
    "  print(\"T2_R_QW[\"+str(j)+\"] = \"+str(i))\n",
    "\n",
    "for j in range(NUM_TESTS_QW2):\n",
    "  i = 0\n",
    "  for ts, payload in dpkt.pcap.Reader(open(T2_S_QW[j],'rb')):\n",
    "    i += 1\n",
    "  print(\"T2_S_QW[\"+str(j)+\"] = \"+str(i))"
   ]
  },
  {
   "cell_type": "code",
   "execution_count": null,
   "metadata": {
    "id": "jVzrS8gybIrQ"
   },
   "outputs": [],
   "source": [
    "for j in range(NUM_TESTS_NQ3):\n",
    "  i = 0\n",
    "  for ts, payload in dpkt.pcap.Reader(open(T3_R_NQ[j],'rb')):\n",
    "    i += 1\n",
    "  print(\"T3_R_NQ[\"+str(j)+\"] = \"+str(i))\n",
    "\n",
    "for j in range(NUM_TESTS_NQ3):\n",
    "  i = 0\n",
    "  for ts, payload in dpkt.pcap.Reader(open(T3_S_NQ[j],'rb')):\n",
    "    i += 1\n",
    "  print(\"T3_S_NQ[\"+str(j)+\"] = \"+str(i))"
   ]
  },
  {
   "cell_type": "code",
   "execution_count": null,
   "metadata": {
    "id": "u5zCH-pObOQY"
   },
   "outputs": [],
   "source": [
    "for j in range(NUM_TESTS_NW3):\n",
    "  i = 0\n",
    "  for ts, payload in dpkt.pcap.Reader(open(T3_R_NW[j],'rb')):\n",
    "    i += 1\n",
    "  print(\"T3_R_NW[\"+str(j)+\"] = \"+str(i))\n",
    "\n",
    "for j in range(NUM_TESTS_NW3):\n",
    "  i = 0\n",
    "  for ts, payload in dpkt.pcap.Reader(open(T3_S_NW[j],'rb')):\n",
    "    i += 1\n",
    "  print(\"T3_S_NW[\"+str(j)+\"] = \"+str(i))"
   ]
  },
  {
   "cell_type": "code",
   "execution_count": null,
   "metadata": {
    "id": "A1Q28iknbQnP",
    "scrolled": true
   },
   "outputs": [],
   "source": [
    "for j in range(NUM_TESTS_QW3):\n",
    "  i = 0\n",
    "  for ts, payload in dpkt.pcap.Reader(open(T3_R_QW[j],'rb')):\n",
    "    i += 1\n",
    "  print(\"T3_R_QW[\"+str(j)+\"] = \"+str(i))\n",
    "\n",
    "for j in range(NUM_TESTS_QW3):\n",
    "  i = 0\n",
    "  for ts, payload in dpkt.pcap.Reader(open(T3_S_QW[j],'rb')):\n",
    "    i += 1\n",
    "  print(\"T3_S_QW[\"+str(j)+\"] = \"+str(i))"
   ]
  },
  {
   "cell_type": "markdown",
   "metadata": {
    "id": "xnOqTE7xg3yH"
   },
   "source": [
    "## Calculos"
   ]
  },
  {
   "cell_type": "code",
   "execution_count": null,
   "metadata": {
    "id": "5U_JB8ESidDm"
   },
   "outputs": [],
   "source": [
    "timestamps = []\n",
    "for i in range(NUM_TESTS_NQ2):\n",
    "  for S, R in zip(dpkt.pcap.Reader(open(T2_S_NQ[i],'rb')), dpkt.pcap.Reader(open(T2_R_NQ[i],'rb'))):\n",
    "    timestamps.append(R[0] - S[0])\n",
    "  with open(TEMP_PATH+\"/T2_NQ\"+str(i), \"w\") as fp:\n",
    "    json.dump(timestamps, fp)\n",
    "    print(\"Resultados salvos no TEMP/T2_NQ\"+str(i))\n",
    "  print(\"Media: \" +str(sum(timestamps)/len(timestamps)))\n",
    "  timestamps.clear()"
   ]
  },
  {
   "cell_type": "code",
   "execution_count": null,
   "metadata": {
    "id": "mZCDj06Ojc0O"
   },
   "outputs": [],
   "source": [
    "timestamps = []\n",
    "for i in range(NUM_TESTS_NW2):\n",
    "  for S, R in zip(dpkt.pcap.Reader(open(T2_S_NW[i],'rb')), dpkt.pcap.Reader(open(T2_R_NW[i],'rb'))):\n",
    "    timestamps.append(R[0] - S[0])\n",
    "  with open(TEMP_PATH+\"/T2_NW\"+str(i), \"w\") as fp:\n",
    "    json.dump(timestamps, fp)\n",
    "    print(\"Resultados salvos no TEMP/T2_NW\"+str(i))\n",
    "  print(\"Media: \" +str(sum(timestamps)/len(timestamps)))\n",
    "  timestamps.clear()"
   ]
  },
  {
   "cell_type": "code",
   "execution_count": 5,
   "metadata": {
    "colab": {
     "base_uri": "https://localhost:8080/"
    },
    "id": "8SPibmKQjd2R",
    "outputId": "ae390cbe-60c5-45fe-f5be-98046ce774d9",
    "scrolled": true
   },
   "outputs": [
    {
     "name": "stdout",
     "output_type": "stream",
     "text": [
      "Resultados salvos no TEMP/T2_QW0\n",
      "Media2: -0.13053975681591842\n"
     ]
    }
   ],
   "source": [
    "#timestamps = []\n",
    "sendId = {}\n",
    "receiveId = {}\n",
    "for i in range(NUM_TESTS_QW2):\n",
    "    for S, R in zip(dpkt.pcap.Reader(open(T2_S_QW[i],'rb')), dpkt.pcap.Reader(open(T2_R_QW[i],'rb'))):\n",
    "        #print(S[1][47:52])\n",
    "        #print(R[1][47:52])\n",
    "        if(not (S[1][47:52]).decode('ascii') in sendId):\n",
    "            sendId[(S[1][47:52]).decode('ascii')] = []\n",
    "        if(not (R[1][47:52]).decode('ascii') in receiveId):\n",
    "            receiveId[(R[1][47:52]).decode('ascii')] = []\n",
    "\n",
    "        sendId[(S[1][47:52]).decode('ascii')].append(S[0])\n",
    "        receiveId[(R[1][47:52]).decode('ascii')].append(R[0])\n",
    "\n",
    "        #timestamps.append(R[0] - S[0])\n",
    "    temp = {key: np.subtract(receiveId[key], sendId.get(key, 0)) for key in receiveId}\n",
    "    \n",
    "    #interPacket = {key: np.subtract(receiveId[key][1:], receiveId[key][0:-1]) for key in receiveId}\n",
    "\n",
    "    timestamps2 = []\n",
    "    for j in temp:\n",
    "        timestamps2.extend(temp[j])\n",
    "\n",
    "    #for j in interPacket:\n",
    "    #    if max(interPacket[j]) > 0.001:\n",
    "    #        print(max(interPacket[j]))\n",
    "    #        print(str(j)+\"   \"+\"Interpacket violado\")\n",
    "        \n",
    "    with open(TEMP_PATH+\"/T2_QW\"+str(i), \"w\") as fp:\n",
    "        json.dump(timestamps2, fp)\n",
    "        print(\"Resultados salvos no TEMP/T2_QW\"+str(i))\n",
    "    #print(\"Media: \" +str(sum(timestamps)/len(timestamps)))\n",
    "    print(\"Media2: \" +str(sum(timestamps2)/len(timestamps2)))\n",
    "    #timestamps.clear()\n",
    "    timestamps2.clear()\n",
    "    for j in sendId:\n",
    "        sendId[j].clear()\n",
    "        receiveId[j].clear()\n",
    "    sendId.clear()\n",
    "    receiveId.clear()"
   ]
  },
  {
   "cell_type": "code",
   "execution_count": null,
   "metadata": {
    "id": "vwUYjmbFjlR5"
   },
   "outputs": [],
   "source": [
    "timestamps = []\n",
    "for i in range(NUM_TESTS_NQ3):\n",
    "  for S, R in zip(dpkt.pcap.Reader(open(T3_S_NQ[i],'rb')), dpkt.pcap.Reader(open(T3_R_NQ[i],'rb'))):\n",
    "    timestamps.append(R[0] - S[0])\n",
    "  with open(TEMP_PATH+\"/T3_NQ\"+str(i), \"w\") as fp:\n",
    "    json.dump(timestamps, fp)\n",
    "    print(\"Resultados salvos no TEMP/T3_NQ\"+str(i))\n",
    "  print(\"Media: \" +str(sum(timestamps)/len(timestamps)))\n",
    "  timestamps.clear()"
   ]
  },
  {
   "cell_type": "code",
   "execution_count": null,
   "metadata": {
    "id": "LJeFp2ZCjoM5"
   },
   "outputs": [],
   "source": [
    "timestamps = []\n",
    "for i in range(NUM_TESTS_NW3):\n",
    "  for S, R in zip(dpkt.pcap.Reader(open(T3_S_NW[i],'rb')), dpkt.pcap.Reader(open(T3_R_NW[i],'rb'))):\n",
    "    timestamps.append(R[0] - S[0])\n",
    "  with open(TEMP_PATH+\"/T3_NW\"+str(i), \"w\") as fp:\n",
    "    json.dump(timestamps, fp)\n",
    "    print(\"Resultados salvos no TEMP/T3_NW\"+str(i))\n",
    "  print(\"Media: \" +str(sum(timestamps)/len(timestamps)))\n",
    "  timestamps.clear()"
   ]
  },
  {
   "cell_type": "code",
   "execution_count": null,
   "metadata": {
    "id": "gppQyu2_jrWf"
   },
   "outputs": [],
   "source": [
    "timestamps = []\n",
    "for i in range(NUM_TESTS_QW3):\n",
    "  for S, R in zip(dpkt.pcap.Reader(open(T3_S_QW[i],'rb')), dpkt.pcap.Reader(open(T3_R_QW[i],'rb'))):\n",
    "    timestamps.append(R[0] - S[0])\n",
    "  with open(TEMP_PATH+\"/T3_QW\"+str(i), \"w\") as fp:\n",
    "    json.dump(timestamps, fp)\n",
    "    print(\"Resultados salvos no TEMP/T3_QW\"+str(i))\n",
    "  print(\"Media: \" +str(sum(timestamps)/len(timestamps)))\n",
    "  timestamps.clear()"
   ]
  },
  {
   "cell_type": "markdown",
   "metadata": {
    "id": "1vEL3rUjidkA"
   },
   "source": [
    "# Graficos"
   ]
  },
  {
   "cell_type": "code",
   "execution_count": null,
   "metadata": {
    "colab": {
     "base_uri": "https://localhost:8080/",
     "height": 559
    },
    "id": "oby4MzDvcVtg",
    "outputId": "e803270a-c401-4ae7-b196-b73cf3a7a6de"
   },
   "outputs": [],
   "source": [
    "fig, ax = plt.subplots(3, sharex='col', sharey='row')\n",
    "fig.subplots_adjust(left=0.1,\n",
    "                    bottom=0.1,\n",
    "                    right=0.9,\n",
    "                    top=0.9,\n",
    "                    wspace=0.4,\n",
    "                    hspace=0.4)\n",
    "\n",
    "for i in range(NUM_TESTS_NQ2):\n",
    "  with open(TEMP_PATH+\"/T2_NQ\"+str(i), 'rb') as fp:\n",
    "      timestamps = json.load(fp)\n",
    "      ax[0].plot(timestamps, label='test '+str(i+1))\n",
    "      timestamps.clear()\n",
    "ax[0].title.set_text(\"Table2 no Queue\")\n",
    "ax[0].legend(loc='center left', bbox_to_anchor=(1, 0.5),ncol=3)\n",
    "ax[0].axhline(0.001, color='r')\n",
    "\n",
    "for i in range(NUM_TESTS_NW2):\n",
    "  with open(TEMP_PATH+\"/T2_NW\"+str(i), 'rb') as fp:\n",
    "      timestamps = json.load(fp)\n",
    "      ax[1].plot(timestamps, label='test '+str(i+1))\n",
    "      timestamps.clear()\n",
    "ax[1].title.set_text(\"Table2 with queue, no weight \")\n",
    "ax[1].legend(loc='center left', bbox_to_anchor=(1, 0.5),ncol=3)\n",
    "ax[1].axhline(0.001, color='r')\n",
    "\n",
    "for i in range(NUM_TESTS_QW2):\n",
    "  with open(TEMP_PATH+\"/T2_QW\"+str(i), 'rb') as fp:\n",
    "      timestamps = json.load(fp)\n",
    "      ax[2].plot(timestamps, label='test '+str(i+1))\n",
    "      timestamps.clear()\n",
    "ax[2].title.set_text(\"Table2 with queue and weight\")\n",
    "ax[2].legend(loc='center left', bbox_to_anchor=(1, 0.5),ncol=3)\n",
    "ax[2].axhline(0.001, color='r')"
   ]
  },
  {
   "cell_type": "code",
   "execution_count": null,
   "metadata": {
    "colab": {
     "base_uri": "https://localhost:8080/",
     "height": 559
    },
    "id": "spckCxcZek5v",
    "outputId": "d5c41821-db32-49e2-810f-441cd42b2280"
   },
   "outputs": [],
   "source": [
    "fig, ax = plt.subplots(3, sharex='col', sharey='row')\n",
    "fig.subplots_adjust(left=0.1,\n",
    "                    bottom=0.1,\n",
    "                    right=0.9,\n",
    "                    top=0.9,\n",
    "                    wspace=0.4,\n",
    "                    hspace=0.4)\n",
    "\n",
    "for i in range(NUM_TESTS_NQ2):\n",
    "  with open(TEMP_PATH+\"/T2_NQ\"+str(i), 'rb') as fp:\n",
    "      timestamps = json.load(fp)\n",
    "      timestamps.sort()\n",
    "      ax[0].plot(timestamps, label='test '+str(i+1))\n",
    "      timestamps.clear()\n",
    "ax[0].set_xlim(1178000,1180000)\n",
    "ax[0].title.set_text(\"Table2 no Queue, worst 2000\")\n",
    "ax[0].legend(loc='center left', bbox_to_anchor=(1, 0.5),ncol=3)\n",
    "ax[0].axhline(0.001, color='r')\n",
    "\n",
    "for i in range(NUM_TESTS_NW2):\n",
    "  with open(TEMP_PATH+\"/T2_NW\"+str(i), 'rb') as fp:\n",
    "      timestamps = json.load(fp)\n",
    "      timestamps.sort()\n",
    "      ax[1].plot(timestamps, label='test '+str(i+1))\n",
    "      timestamps.clear()\n",
    "ax[1].set_xlim(1178000,1180000)\n",
    "ax[1].title.set_text(\"Table2 with queue, no weight, worst 2000 \")\n",
    "ax[1].legend(loc='center left', bbox_to_anchor=(1, 0.5),ncol=3)\n",
    "ax[1].axhline(0.001, color='r')\n",
    "\n",
    "for i in range(NUM_TESTS_QW2):\n",
    "  with open(TEMP_PATH+\"/T2_QW\"+str(i), 'rb') as fp:\n",
    "      timestamps = json.load(fp)\n",
    "      timestamps.sort()\n",
    "      ax[2].plot(timestamps, label='test '+str(i+1))\n",
    "      timestamps.clear()\n",
    "ax[2].set_xlim(1178000,1180000)\n",
    "ax[2].title.set_text(\"Table2 with queue and weight, worst 2000\")\n",
    "ax[2].legend(loc='center left', bbox_to_anchor=(1, 0.5),ncol=3)\n",
    "ax[2].axhline(0.001, color='r')\n"
   ]
  },
  {
   "cell_type": "code",
   "execution_count": 7,
   "metadata": {
    "colab": {
     "base_uri": "https://localhost:8080/",
     "height": 488
    },
    "id": "M9UYgcOaySdW",
    "outputId": "1a4e93de-8479-476d-c1fa-18bf70a98cc2"
   },
   "outputs": [
    {
     "name": "stdout",
     "output_type": "stream",
     "text": [
      "max test0: -0.12958312034606934\n",
      "min test0: -0.13064312934875488\n"
     ]
    },
    {
     "data": {
      "text/plain": [
       "<matplotlib.lines.Line2D at 0x206ffca4d60>"
      ]
     },
     "execution_count": 7,
     "metadata": {},
     "output_type": "execute_result"
    },
    {
     "data": {
      "image/png": "[encoded data removed]",
      "text/plain": [
       "<Figure size 640x480 with 1 Axes>"
      ]
     },
     "metadata": {},
     "output_type": "display_data"
    }
   ],
   "source": [
    "for i in range(NUM_TESTS_QW2):\n",
    "  with open(TEMP_PATH+\"/T2_QW\"+str(i), 'rb') as fp:\n",
    "        timestamps = json.load(fp)\n",
    "        print(\"max test\"+str(i)+\": \"+str(max(timestamps)))\n",
    "        print(\"min test\"+str(i)+\": \"+str(min(timestamps)))\n",
    "        #plt.plot(timestamps)\n",
    "        #timestamps.sort()\n",
    "        plt.plot(timestamps, label='test '+str(i+1))\n",
    "plt.title(\"Table2 with queue and weight\")\n",
    "plt.legend(loc='center left', bbox_to_anchor=(1, 0.5),ncol=3)\n",
    "        #plt.xlim(1179995,1180000)\n",
    "       # print(sum(timestamps)/len(timestamps))\n",
    "plt.axhline(0.001, color='r')"
   ]
  },
  {
   "cell_type": "code",
   "execution_count": null,
   "metadata": {
    "colab": {
     "base_uri": "https://localhost:8080/",
     "height": 526
    },
    "id": "yikDBUqu_JDY",
    "outputId": "c9436bdc-badb-40eb-9d2f-cf85a052c199"
   },
   "outputs": [],
   "source": [
    "for i in range(NUM_TESTS_QW2):\n",
    "  with open(TEMP_PATH+\"/T2_QW\"+str(i), 'rb') as fp:\n",
    "        timestamps = json.load(fp)\n",
    "        #print(max(timestamps))\n",
    "        #print(min(timestamps))\n",
    "        #plt.plot(timestamps)\n",
    "        timestamps.sort()\n",
    "        plt.plot(timestamps, label='test '+str(i+1))\n",
    "        plt.xlim(1175000,1180000)\n",
    "        #print(sum(timestamps)/len(timestamps))\n",
    "plt.title(\"Table2 with queue and weight\")\n",
    "plt.legend(loc='center left', bbox_to_anchor=(1, 0.5),ncol=3)\n",
    "plt.axhline(0.001, color='r')"
   ]
  },
  {
   "cell_type": "markdown",
   "metadata": {},
   "source": [
    "# Tabela 3"
   ]
  },
  {
   "cell_type": "code",
   "execution_count": null,
   "metadata": {
    "colab": {
     "base_uri": "https://localhost:8080/",
     "height": 482
    },
    "id": "smidCKDheet3",
    "outputId": "ded1048f-6532-4df5-85a6-600f603a223b"
   },
   "outputs": [],
   "source": [
    "fig, ax = plt.subplots(3, sharex='col', sharey='row')\n",
    "fig.subplots_adjust(left=0.1,\n",
    "                    bottom=0.1,\n",
    "                    right=0.9,\n",
    "                    top=0.9,\n",
    "                    wspace=0.4,\n",
    "                    hspace=0.4)\n",
    "\n",
    "for i in range(NUM_TESTS_NQ3):\n",
    "  with open(TEMP_PATH+\"/T3_NQ\"+str(i), 'rb') as fp:\n",
    "      timestamps = json.load(fp)\n",
    "      ax[0].plot(timestamps, label='test '+str(i+1))\n",
    "      timestamps.clear()\n",
    "ax[0].title.set_text(\"Table3 no Queue\")\n",
    "ax[0].legend(loc='center left', bbox_to_anchor=(1, 0.5),ncol=3)\n",
    "ax[0].axhline(0.001, color='r')\n",
    "\n",
    "for i in range(NUM_TESTS_NW3):\n",
    "  with open(TEMP_PATH+\"/T3_NW\"+str(i), 'rb') as fp:\n",
    "      timestamps = json.load(fp)\n",
    "      ax[1].plot(timestamps, label='test '+str(i+1))\n",
    "      timestamps.clear()\n",
    "ax[1].title.set_text(\"Table3 with queue, no weight \")\n",
    "ax[1].legend(loc='center left', bbox_to_anchor=(1, 0.5),ncol=3)\n",
    "ax[1].axhline(0.001, color='r')\n",
    "\n",
    "for i in range(NUM_TESTS_QW3):\n",
    "  with open(TEMP_PATH+\"/T3_QW\"+str(i), 'rb') as fp:\n",
    "      timestamps = json.load(fp)\n",
    "      ax[2].plot(timestamps, label='test '+str(i+1))\n",
    "      timestamps.clear()\n",
    "ax[2].title.set_text(\"Table3 with queue and weight\")\n",
    "ax[2].legend(loc='center left', bbox_to_anchor=(1, 0.5),ncol=3)\n",
    "ax[2].axhline(0.001, color='r')"
   ]
  },
  {
   "cell_type": "code",
   "execution_count": null,
   "metadata": {
    "colab": {
     "base_uri": "https://localhost:8080/",
     "height": 482
    },
    "id": "J18po6TSe-CV",
    "outputId": "95765cc2-4042-47f0-8fcf-d970bcec77cf"
   },
   "outputs": [],
   "source": [
    "fig, ax = plt.subplots(3, sharex='col', sharey='row')\n",
    "fig.subplots_adjust(left=0.1,\n",
    "                    bottom=0.1,\n",
    "                    right=0.9,\n",
    "                    top=0.9,\n",
    "                    wspace=0.4,\n",
    "                    hspace=0.4)\n",
    "\n",
    "for i in range(NUM_TESTS_NQ3):\n",
    "  with open(TEMP_PATH+\"/T3_NQ\"+str(i), 'rb') as fp:\n",
    "      timestamps = json.load(fp)\n",
    "      timestamps.sort()\n",
    "      ax[0].plot(timestamps, label='test '+str(i+1))\n",
    "      timestamps.clear()\n",
    "ax[0].set_xlim(1168000,1170000)\n",
    "ax[0].title.set_text(\"Table3 no Queue\")\n",
    "ax[0].legend(loc='center left', bbox_to_anchor=(1, 0.5),ncol=3)\n",
    "ax[0].axhline(0.001, color='r')\n",
    "\n",
    "for i in range(NUM_TESTS_NW3):\n",
    "  with open(TEMP_PATH+\"/T3_NW\"+str(i), 'rb') as fp:\n",
    "      timestamps = json.load(fp)\n",
    "      timestamps.sort()\n",
    "      ax[1].plot(timestamps, label='test '+str(i+1))\n",
    "      timestamps.clear()\n",
    "ax[0].set_xlim(1168000,1170000)\n",
    "ax[1].title.set_text(\"Table3 with queue, no weight\")\n",
    "ax[1].legend(loc='center left', bbox_to_anchor=(1, 0.5),ncol=3)\n",
    "ax[1].axhline(0.001, color='r')\n",
    "\n",
    "for i in range(NUM_TESTS_QW3):\n",
    "  with open(TEMP_PATH+\"/T3_QW\"+str(i), 'rb') as fp:\n",
    "      timestamps = json.load(fp)\n",
    "      timestamps.sort()\n",
    "      ax[2].plot(timestamps, label='test '+str(i+1))\n",
    "      timestamps.clear()\n",
    "ax[0].set_xlim(1168000,1170000)\n",
    "ax[2].title.set_text(\"Table3 with queue and weight\")\n",
    "ax[2].legend(loc='center left', bbox_to_anchor=(1, 0.5),ncol=3)\n",
    "ax[2].axhline(0.001, color='r')"
   ]
  },
  {
   "cell_type": "code",
   "execution_count": 6,
   "metadata": {},
   "outputs": [
    {
     "ename": "SyntaxError",
     "evalue": "invalid syntax. Perhaps you forgot a comma? (2124530318.py, line 5)",
     "output_type": "error",
     "traceback": [
      "\u001b[1;36m  Cell \u001b[1;32mIn[6], line 5\u001b[1;36m\u001b[0m\n\u001b[1;33m    print(\"min test\"+str(i)+\": \"min(timestamps))\u001b[0m\n\u001b[1;37m          ^\u001b[0m\n\u001b[1;31mSyntaxError\u001b[0m\u001b[1;31m:\u001b[0m invalid syntax. Perhaps you forgot a comma?\n"
     ]
    }
   ],
   "source": [
    "for i in range(NUM_TESTS_QW3):\n",
    "  with open(TEMP_PATH+\"/T3_QW\"+str(i), 'rb') as fp:\n",
    "        timestamps = json.load(fp)\n",
    "        print(\"max test\"+str(i)+\": \"+max(timestamps))\n",
    "        print(\"min test\"+str(i)+\": \"+min(timestamps))\n",
    "        #plt.plot(timestamps)\n",
    "        #timestamps.sort()\n",
    "        plt.plot(timestamps, label='test '+str(i+1))\n",
    "plt.title(\"Table3 with queue and weight\")\n",
    "plt.legend(loc='center left', bbox_to_anchor=(1, 0.5),ncol=3)\n",
    "        #plt.xlim(1179995,1180000)\n",
    "       # print(sum(timestamps)/len(timestamps))\n",
    "plt.axhline(0.001, color='r')"
   ]
  },
  {
   "cell_type": "code",
   "execution_count": null,
   "metadata": {},
   "outputs": [],
   "source": [
    "for i in range(NUM_TESTS_QW3):\n",
    "  with open(TEMP_PATH+\"/T3_QW\"+str(i), 'rb') as fp:\n",
    "        timestamps = json.load(fp)\n",
    "        #print(max(timestamps))\n",
    "        #print(min(timestamps))\n",
    "        #plt.plot(timestamps)\n",
    "        timestamps.sort()\n",
    "        plt.plot(timestamps, label='test '+str(i+1))\n",
    "plt.title(\"Table3 with queue and weight\")\n",
    "plt.legend(loc='center left', bbox_to_anchor=(1, 0.5),ncol=3)\n",
    "        #plt.xlim(1179995,1180000)\n",
    "       # print(sum(timestamps)/len(timestamps))\n",
    "plt.axhline(0.001, color='r')"
   ]
  },
  {
   "cell_type": "code",
   "execution_count": null,
   "metadata": {},
   "outputs": [],
   "source": []
  }
 ],
 "metadata": {
  "colab": {
   "collapsed_sections": [
    "M1lRpeXUV_xO"
   ],
   "provenance": []
  },
  "gpuClass": "standard",
  "kernelspec": {
   "display_name": "Python 3 (ipykernel)",
   "language": "python",
   "name": "python3"
  },
  "language_info": {
   "codemirror_mode": {
    "name": "ipython",
    "version": 3
   },
   "file_extension": ".py",
   "mimetype": "text/x-python",
   "name": "python",
   "nbconvert_exporter": "python",
   "pygments_lexer": "ipython3",
   "version": "3.10.9"
  }
 },
 "nbformat": 4,
 "nbformat_minor": 1
}
